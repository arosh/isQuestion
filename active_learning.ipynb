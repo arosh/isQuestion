{
 "cells": [
  {
   "cell_type": "code",
   "execution_count": 1,
   "metadata": {
    "collapsed": true
   },
   "outputs": [],
   "source": [
    "%matplotlib inline"
   ]
  },
  {
   "cell_type": "code",
   "execution_count": 2,
   "metadata": {
    "collapsed": true
   },
   "outputs": [],
   "source": [
    "from __future__ import division, print_function, unicode_literals\n",
    "from future_builtins import ascii, filter, hex, map, oct, zip"
   ]
  },
  {
   "cell_type": "code",
   "execution_count": 16,
   "metadata": {
    "collapsed": true
   },
   "outputs": [],
   "source": [
    "import al\n",
    "import operator\n",
    "import normalize"
   ]
  },
  {
   "cell_type": "code",
   "execution_count": 9,
   "metadata": {
    "collapsed": false
   },
   "outputs": [
    {
     "name": "stderr",
     "output_type": "stream",
     "text": [
      "[Parallel(n_jobs=1)]: Done   1 jobs       | elapsed:    0.0s\n",
      "[Parallel(n_jobs=1)]: Done  50 jobs       | elapsed:    0.2s\n",
      "[Parallel(n_jobs=1)]: Done 200 jobs       | elapsed:    0.7s\n",
      "[Parallel(n_jobs=1)]: Done 240 out of 240 | elapsed:    0.9s finished\n"
     ]
    },
    {
     "name": "stdout",
     "output_type": "stream",
     "text": [
      "Fitting 8 folds for each of 30 candidates, totalling 240 fits\n",
      "f1 = 0.704321091292\n",
      "{u'alpha': 0.024024024024024024}\n"
     ]
    }
   ],
   "source": [
    "supervised = al.load_supervised_texts()\n",
    "X, lb = al.vectorize_with_learn(supervised.keys())\n",
    "y = supervised.values()\n",
    "clf = al.learn(X, y)"
   ]
  },
  {
   "cell_type": "code",
   "execution_count": 11,
   "metadata": {
    "collapsed": false
   },
   "outputs": [
    {
     "name": "stdout",
     "output_type": "stream",
     "text": [
      "1000\n",
      "2000\n",
      "3000\n",
      "4000\n",
      "5000\n",
      "6000\n",
      "7000\n",
      "8000\n",
      "9000\n",
      "10000\n",
      "11000\n",
      "12000\n",
      "13000\n",
      "14000\n",
      "15000\n",
      "16000\n",
      "17000\n",
      "18000\n",
      "19000\n",
      "20000\n",
      "21000\n",
      "22000\n",
      "23000\n",
      "24000\n",
      "25000\n",
      "26000\n",
      "27000\n",
      "28000\n",
      "29000\n",
      "30000\n",
      "31000\n"
     ]
    }
   ],
   "source": [
    "texts = al.load_all_texts()\n",
    "X = al.vectorize(texts, lb)"
   ]
  },
  {
   "cell_type": "code",
   "execution_count": 21,
   "metadata": {
    "collapsed": false
   },
   "outputs": [
    {
     "name": "stdout",
     "output_type": "stream",
     "text": [
      "100.00%\t猫猫猫猫猫猫猫ー!!!!猫猫猫!!!!猫猫猫猫猫ー!!猫猫猫猫猫ー!!!!猫猫猫猫ー!!!!猫猫猫猫ー!!!猫猫猫猫猫猫猫ー!!!!猫猫猫猫猫猫猫猫猫猫猫猫猫猫猫猫!!!!!!!!\n",
      "100.00%\tsakuracos CC+まっ平らな胸に、真っ黒で巨大な乳輪が浮いている清水桜子さんの裸はトラウマになりました。。。@ayumuhaitani\n",
      "100.00%\t’’’’’’’’’’’’’’’’’’’’’’’’’’’’’’’’’’’’’’’’’’’’’’’’’’’’’’’’’’’’’’’’’’’’’’’’’’’’’’’’’’’’’’’’’’’’’’’’’’’’’’’’’’’’’’’’’’’’’’’’’’’’’’’’’’’’’’’’’’’’’’’’’’’’’’’’’’’’’’’’’’’’’’’’’’’’’’’’’’’’’’’’’’’’’’’’’’’’’’’’’’’’’’’’’’’’’’’’’’’’’’’’’’’’’’’’’’’’’’’’’’’’’’’’’’’’’’’’’’’’’’’’’’’’’’’’’’’’’’’’’’’’’’’’’’’’’’’’’’’’\n",
      "100.00%\t質問ではない。ー「質問ではない」だ。ー「質問ではない。」ではない。ー「質問ではない。」ではない」だ。ー「「質問ではない。」ではない」ではない。\n",
      "100.00%\t江添亮江添亮江添亮江添亮江添亮江添亮江添亮江添亮江添亮江添亮江添亮江添亮江添亮江添亮江添亮江添亮江添亮江添亮江添亮江添亮江添亮江添亮江添亮江添亮江添亮江添亮江添亮江添亮江添亮江添亮江添亮江添亮江添亮江添亮江添亮江添亮江添亮江添亮江添亮江添亮江添亮江添亮江添亮江添亮弾幕を打ってもいいですか?\n",
      "100.00%\t江添亮江添亮江添亮江添亮江添亮江添亮江添亮江添亮江添亮江添亮江添亮江添亮江添亮江添亮江添亮江添亮江添亮江添亮江添亮江添亮江添亮江添亮江添亮江添亮江添亮江添亮江添亮江添亮江添亮江添亮江添亮江添亮江添亮江添亮江添亮\n",
      "100.00%\tドワンゴ社員「続いて接近する物体、２つあります。」川上会長「なんだ!」ドワンゴ社員「社員のようです!」川上会長「プログラマーか!?」ドワンゴ社員「でも川上会長!このスピードで迫れるプログラマーはありはしません!一人のプログラマーは通常の３倍で接近します!」ニコ動ユーザー「エ、エゾエだ・・・江添亮だ・・・。」\n",
      "100.00%\talias cat＝”echo ’₍˄·͈༝·͈˄₍˄·͈༝·͈˄( ͒ •·̫• ͒)˄·͈༝·͈˄₎˄·͈༝·͈˄₎’;cat”\n",
      "100.00%\t江添商事、江添証券、江添水産、江添建設、江添物流、江添損保、江添電鉄、江添バス、江添銀行、江添保険、江添電機、江添食品、江添製薬、江添航空、江添電力、江添出版、江添化学、江添重工、江添印刷、江添堂、江添マート\n",
      "100.00%\tまっ平らな胸に、真っ黒で巨大な乳輪が浮いている清水桜子さんの裸はトラウマになりました。@achirabe\n",
      "100.00%\t舛添要一「ゾエ?」江添亮「ゾエ」舛添要一「ゾエゾエ!?」江添亮「ゾエ!」舛添要一「ゾエエエ!!」江添亮「ゾエw」\n",
      "100.00%\t質問ではない。-質問ではない。-質問ではない。-質問ではない。-質問ではない。-質問ではない。-質問ではない。-質問ではない。-質問ではない。-質問ではない。-質問ではない。-質問ではない。-質問ではない。-質問ではない。-質問ではない。-質問ではない。-質問ではない。-質問ではない。-質問ではない。-質問ではない。-質問ではない。-質問ではない。-質問ではない。-質問ではない。-質問ではない。-質問ではない。-質問ではない。-質問ではない。-質問ではない。-質問ではない。-質問ではない。-質問ではな\n",
      "100.00%\tえぞたそえぞたそえぞたそえぞたそえぞたそえぞたそえぞたそえぞたそえぞたそえぞたそえぞたそえぞたそえぞたそえぞたそえぞたそえぞたそえぞたそえぞたそえぞたそえぞたそえぞたそえぞたそえぞたそえぞたそえぞたそえぞたそえぞたそえぞたそえぞたそえぞたそえぞたそえぞたそえぞたそえぞたそえぞたそえぞたそえぞたそえぞたそえぞたそえぞたそえぞたそえぞたそえぞたそえぞたそえぞたそえぞたそえぞたそえぞたそえぞたそえぞたそえぞたそえぞたそえぞたそえぞたそえぞたそえぞたそえぞたそえぞたそって何回書いてある?\n",
      "100.00%\t質問ではない。ー質問ではない。ー質問ではない。ー質問ではない。ー質問ではない。ー回答が思いつかない。ー質問ではない。ー質問ではない。ー質問ではない。ー質問ではない。ー質問ではない。\n",
      "100.00%\t宇宙でたった一人その資格を持つ男が、座標を定めて走り始めた。生まれながらのニート、ドワンゴ社員、C++エキスパート。ドワンゴの絶対支配。壮烈な決意が、自らを加速させる。全てをこの手に。次回「乱雲」。もう止められる者はいない。\n",
      "100.00%\t₍˄·͈༝·͈˄*₎◞ ̑̑ にゃーん\n",
      "100.00%\t赤い空、赤い土。かつて流された夥しい血がこびりついた、不吉な街。ここには、ドワンゴC++特殊任務班Xー１、レッドコーダーの鋭い爪痕が刻まれている。次回「銀座」。かつてこの街には、赤い指をした悪魔が蠢いていた。\n",
      "100.00%\t「沖縄部隊核攻撃を」キューバ危機で米軍誤命令現場が回避判断\n",
      "100.00%\tまっ平らな胸に、真っ黒で巨大な乳輪が浮いている清水桜子さんの裸はトラウマになりました。@BABAKOSK\n",
      "100.00%\tまっ平らな胸に、真っ黒で巨大な乳輪が浮いている清水桜子さんの裸はトラウマになりました。。。@Tsubasa283\n"
     ]
    }
   ],
   "source": [
    "proba = clf.predict_proba(X)\n",
    "high = proba[:,1]\n",
    "l = list(zip(high, texts))\n",
    "l.sort(key=operator.itemgetter(0), reverse=True)\n",
    "print('\\n'.join(map(lambda it: '{:.2%}\\t'.format(it[0])+normalize.normalize_askfm(it[1], h2z=False), l[:20])))"
   ]
  },
  {
   "cell_type": "code",
   "execution_count": 24,
   "metadata": {
    "collapsed": true
   },
   "outputs": [],
   "source": [
    "def estimate(text):\n",
    "    global clf, lb\n",
    "    X = al.vectorize([text], lb)\n",
    "    C = clf.predict_proba(X)\n",
    "    proba = C[0,1]\n",
    "    if proba >= 0.5:\n",
    "        print('質問ではない。({:.2%})'.format(proba))\n",
    "    else:\n",
    "        print('質問である。({:.2%})'.format(proba))"
   ]
  },
  {
   "cell_type": "code",
   "execution_count": 27,
   "metadata": {
    "collapsed": false
   },
   "outputs": [
    {
     "name": "stdout",
     "output_type": "stream",
     "text": [
      "質問ではない。(53.96%)\n",
      "質問である。(0.03%)\n",
      "質問である。(0.96%)\n",
      "質問ではない。(60.54%)\n",
      "質問ではない。(53.96%)\n"
     ]
    }
   ],
   "source": [
    "estimate('プロ')\n",
    "estimate('動的計画法書ける？')\n",
    "estimate('HL分解書ける？')\n",
    "estimate('○○は俺の嫁')\n",
    "estimate('守山ダマ 守山ダダマ 守山ダダダマ 守山ダダダダマ 守山ダダダダダマ 守山ダダダダダダマ 守山ダダダダダダダマ 守山ダダダダダダダダマ 守山ダダダダダダダマ 守山ダダダダダダマ 守山ダダダダダマ 守山ダダダダマ 守山ダダダマ 守山ダダマ 守山ダマ')"
   ]
  },
  {
   "cell_type": "code",
   "execution_count": null,
   "metadata": {
    "collapsed": true
   },
   "outputs": [],
   "source": []
  }
 ],
 "metadata": {
  "kernelspec": {
   "display_name": "Python 2",
   "language": "python",
   "name": "python2"
  },
  "language_info": {
   "codemirror_mode": {
    "name": "ipython",
    "version": 2
   },
   "file_extension": ".py",
   "mimetype": "text/x-python",
   "name": "python",
   "nbconvert_exporter": "python",
   "pygments_lexer": "ipython2",
   "version": "2.7.10"
  }
 },
 "nbformat": 4,
 "nbformat_minor": 0
}
