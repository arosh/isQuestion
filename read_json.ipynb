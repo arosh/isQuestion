{
 "cells": [
  {
   "cell_type": "code",
   "execution_count": 1,
   "metadata": {
    "collapsed": true
   },
   "outputs": [],
   "source": [
    "%matplotlib inline"
   ]
  },
  {
   "cell_type": "code",
   "execution_count": 2,
   "metadata": {
    "collapsed": true
   },
   "outputs": [],
   "source": [
    "from __future__ import division, print_function, unicode_literals\n",
    "from future_builtins import ascii, filter, hex, map, oct, zip"
   ]
  },
  {
   "cell_type": "code",
   "execution_count": 3,
   "metadata": {
    "collapsed": false
   },
   "outputs": [],
   "source": [
    "import json\n",
    "import glob\n",
    "import random\n",
    "import normalize\n",
    "import morph"
   ]
  },
  {
   "cell_type": "code",
   "execution_count": 4,
   "metadata": {
    "collapsed": false
   },
   "outputs": [],
   "source": [
    "url2qa = {}\n",
    "for fname in glob.iglob('corpus/*.json'):\n",
    "    with open(fname) as f:\n",
    "        data = json.load(f)\n",
    "    for it in data:\n",
    "        url2qa[it['url']] = {'question': it['question'], 'answer': it['answer']}"
   ]
  },
  {
   "cell_type": "code",
   "execution_count": null,
   "metadata": {
    "collapsed": false
   },
   "outputs": [],
   "source": [
    "dicdir = '-d /usr/local/Cellar/mecab/0.996/lib/mecab/dic/unidic'\n",
    "\n",
    "def to_base(surface, features):\n",
    "    if len(features) > 6:\n",
    "        return features[7]\n",
    "    else:\n",
    "        return surface\n",
    "\n",
    "def to_pos(surface, features):\n",
    "    return features[0], features[0]+'-'+features[1]\n",
    "    \n",
    "for url in random.sample(url2qa.keys(), 1):\n",
    "    q = normalize.normalize_askfm(url2qa[url]['question'], h2z=True)\n",
    "    print('Q', q)\n",
    "    a = normalize.normalize_askfm(url2qa[url]['answer'], h2z=True)\n",
    "    print('A', a)\n",
    "    \n",
    "    for surface, features in morph.parse(q, opt=dicdir):\n",
    "        pos = to_pos(surface, features)\n",
    "        base = to_base(surface, features)\n",
    "        print(surface + '\\t' + pos[0] + '/' + pos[1] + '/' + base)\n",
    "        # print(surface + '\\t' + '/'.join(features))"
   ]
  },
  {
   "cell_type": "code",
   "execution_count": null,
   "metadata": {
    "collapsed": false
   },
   "outputs": [],
   "source": [
    "dicdir = '-d /Users/arosh/opt/mecab-ipadic-neologd'\n",
    "\n",
    "def to_base(surface, features):\n",
    "    if features[6] == '*':\n",
    "        return surface\n",
    "    else:\n",
    "        return features[6]\n",
    "\n",
    "def to_pos(surface, features):\n",
    "    return features[0], features[0]+'-'+features[1]\n",
    "    \n",
    "for url in random.sample(url2qa.keys(), 1):\n",
    "    print(url)\n",
    "    q = normalize.normalize_askfm(url2qa[url]['question'], h2z=False)\n",
    "    print('Q', q)\n",
    "    a = normalize.normalize_askfm(url2qa[url]['answer'], h2z=False)\n",
    "    print('A', a)\n",
    "    \n",
    "    for surface, features in morph.parse(q, opt=dicdir):\n",
    "        # print(surface + '\\t' + '/'.join(features))\n",
    "        pos = to_pos(surface, features)\n",
    "        base = to_base(surface, features)\n",
    "        print(surface + '\\t' + pos[0] + '/' + pos[1] + '/' + base)"
   ]
  },
  {
   "cell_type": "code",
   "execution_count": 6,
   "metadata": {
    "collapsed": false
   },
   "outputs": [
    {
     "name": "stdout",
     "output_type": "stream",
     "text": [
      "Q 被害者の人権よりも加害者の人権ばかり守られるこの世の中じゃポイズンhttps://twitter.com/CharlieOfkns19d/status/617841450240249856\n",
      "A 質問ではない。\n",
      "\n",
      "Q 【速報】この画像クソエゾタwwwwwwww\n",
      "A 質問ではない。\n",
      "\n",
      "Q 「やった!早くこじ開けろ!」「待て奇妙だ!この棺内側からカギがかかっているぞ」「知るかよぶっ壊せ!」「E・Z・O・E……イゾイ…?名前かな?」\n",
      "A 質問ではない。\n",
      "\n",
      "Q Android OSもクソ?\n",
      "A 質問ではない。\n",
      "\n",
      "Q こういうのを偽善者バカと言いますhttps://twitter.com/hutahi/status/623052715032117249\n",
      "A 質問ではない。\n",
      "\n",
      "Q さっとコピペしたくなるコードは、さっと読みやすいコードだろう。各機能は、こんなふうに使ってみて、という意図があるだろうから、それが読解しやすいコードは喜ばれると思う。\n",
      "A 質問ではない。\n",
      "\n",
      "Q AZE48\n",
      "A 質問ではない。\n",
      "\n",
      "Q 回答ではない。\n",
      "A 質問ではない\n",
      "\n",
      "Q 俺は江副だ\n",
      "A 質問ではない。\n",
      "\n",
      "Q いつもくだらない質問をしてすまないと思っている。おやすみ。\n",
      "A 質問ではない。\n",
      "\n"
     ]
    }
   ],
   "source": [
    "def nm(text):\n",
    "    return normalize.normalize_askfm(text, h2z=False)\n",
    "\n",
    "def shitsumon_filter(t):\n",
    "    answer = t[1]['answer']\n",
    "    answer = nm(answer)\n",
    "    if answer == '質問ではない。': return True\n",
    "    if answer == '質問ではない': return True\n",
    "    if answer == 'これは質問ではない。': return True\n",
    "    # if answer == '質問の意味がわからない。': return False\n",
    "    return False\n",
    "\n",
    "contain_shitsumon = list(filter(shitsumon_filter, url2qa.iteritems()))\n",
    "for key, value in random.sample(contain_shitsumon, 10):\n",
    "    print('Q', nm(value['question']))\n",
    "    print('A', nm(value['answer']))\n",
    "    print()"
   ]
  },
  {
   "cell_type": "code",
   "execution_count": 10,
   "metadata": {
    "collapsed": false
   },
   "outputs": [
    {
     "data": {
      "text/plain": [
       "31413"
      ]
     },
     "execution_count": 10,
     "metadata": {},
     "output_type": "execute_result"
    }
   ],
   "source": [
    "len(url2qa)"
   ]
  },
  {
   "cell_type": "code",
   "execution_count": null,
   "metadata": {
    "collapsed": true
   },
   "outputs": [],
   "source": []
  }
 ],
 "metadata": {
  "kernelspec": {
   "display_name": "Python 2",
   "language": "python",
   "name": "python2"
  },
  "language_info": {
   "codemirror_mode": {
    "name": "ipython",
    "version": 2
   },
   "file_extension": ".py",
   "mimetype": "text/x-python",
   "name": "python",
   "nbconvert_exporter": "python",
   "pygments_lexer": "ipython2",
   "version": "2.7.10"
  }
 },
 "nbformat": 4,
 "nbformat_minor": 0
}
